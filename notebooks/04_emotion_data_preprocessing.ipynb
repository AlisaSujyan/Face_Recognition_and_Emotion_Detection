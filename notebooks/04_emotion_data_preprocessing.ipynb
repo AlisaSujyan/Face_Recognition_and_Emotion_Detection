{
 "cells": [
  {
   "cell_type": "code",
   "id": "initial_id",
   "metadata": {
    "collapsed": true,
    "ExecuteTime": {
     "end_time": "2025-10-30T20:45:47.497869Z",
     "start_time": "2025-10-30T20:45:47.291167Z"
    }
   },
   "source": [
    "import os\n",
    "import numpy as np\n",
    "import pandas as pd\n",
    "import matplotlib.pyplot as plt\n",
    "from pathlib import Path\n",
    "import cv2\n",
    "from sklearn.model_selection import train_test_split\n",
    "from sklearn.utils import class_weight\n",
    "from tqdm import tqdm\n",
    "import pickle\n",
    "\n",
    "plt.style.use('seaborn-v0_8-darkgrid')\n",
    "np.random.seed(42)\n"
   ],
   "outputs": [],
   "execution_count": 1
  },
  {
   "metadata": {
    "ExecuteTime": {
     "end_time": "2025-10-30T20:45:55.369901Z",
     "start_time": "2025-10-30T20:45:55.360876Z"
    }
   },
   "cell_type": "code",
   "source": [
    "RAW_DATA_DIR = Path(r\"C:\\Users\\MSI GF66\\OneDrive - National Polyechnic University of Armenia\\Desktop\\Emotion_recognition\\data\\raw\\fer2013\")\n",
    "TRAIN_DIR = RAW_DATA_DIR / 'train'\n",
    "TEST_DIR = RAW_DATA_DIR / 'test'\n",
    "\n",
    "PROCESSED_DIR = Path(r\"C:\\Users\\MSI GF66\\OneDrive - National Polyechnic University of Armenia\\Desktop\\Emotion_recognition\\data\\processed\\emotions\")\n",
    "PROCESSED_DIR.mkdir(parents=True, exist_ok=True)\n",
    "\n",
    "RESULTS_DIR = Path(r\"C:\\Users\\MSI GF66\\OneDrive - National Polyechnic University of Armenia\\Desktop\\Emotion_recognition\\results\\emotion_preprocessing\")\n",
    "RESULTS_DIR.mkdir(parents=True, exist_ok=True)\n",
    "\n",
    "EMOTION_LABELS = ['angry', 'disgust', 'fear', 'happy', 'sad', 'surprise', 'neutral']\n",
    "EMOTION_TO_ID = {emotion: idx for idx, emotion in enumerate(EMOTION_LABELS)}\n",
    "ID_TO_EMOTION = {idx: emotion for emotion, idx in EMOTION_TO_ID.items()}\n",
    "\n",
    "IMG_SIZE = (48, 48)\n",
    "VAL_SPLIT = 0.15\n",
    "\n",
    "print(f\"Train directory: {TRAIN_DIR}\")\n",
    "print(f\"Test directory: {TEST_DIR}\")\n",
    "print(f\"Processed data will be saved to: {PROCESSED_DIR}\")\n",
    "print(f\"\\nEmotion labels: {EMOTION_LABELS}\")\n",
    "print(f\"Number of classes: {len(EMOTION_LABELS)}\")\n"
   ],
   "id": "7df0419894b137dc",
   "outputs": [
    {
     "name": "stdout",
     "output_type": "stream",
     "text": [
      "Train directory: C:\\Users\\MSI GF66\\OneDrive - National Polyechnic University of Armenia\\Desktop\\Emotion_recognition\\data\\raw\\fer2013\\train\n",
      "Test directory: C:\\Users\\MSI GF66\\OneDrive - National Polyechnic University of Armenia\\Desktop\\Emotion_recognition\\data\\raw\\fer2013\\test\n",
      "Processed data will be saved to: C:\\Users\\MSI GF66\\OneDrive - National Polyechnic University of Armenia\\Desktop\\Emotion_recognition\\data\\processed\\emotions\n",
      "\n",
      "Emotion labels: ['angry', 'disgust', 'fear', 'happy', 'sad', 'surprise', 'neutral']\n",
      "Number of classes: 7\n"
     ]
    }
   ],
   "execution_count": 3
  },
  {
   "metadata": {},
   "cell_type": "markdown",
   "source": "## Load Dataset",
   "id": "8eef76d5336fa222"
  },
  {
   "metadata": {
    "ExecuteTime": {
     "end_time": "2025-10-30T20:46:00.392590Z",
     "start_time": "2025-10-30T20:45:59.802755Z"
    }
   },
   "cell_type": "code",
   "source": [
    "def load_emotion_dataset(data_dir):\n",
    "    dataset = []\n",
    "\n",
    "    for emotion in os.listdir(data_dir):\n",
    "        emotion_path = os.path.join(data_dir, emotion)\n",
    "\n",
    "        if os.path.isdir(emotion_path) and emotion in EMOTION_LABELS:\n",
    "            for img_name in os.listdir(emotion_path):\n",
    "                if img_name.endswith(('.jpg', '.png')):\n",
    "                    img_path = os.path.join(emotion_path, img_name)\n",
    "                    dataset.append({\n",
    "                        'path': img_path,\n",
    "                        'emotion': emotion,\n",
    "                        'emotion_id': EMOTION_TO_ID[emotion]\n",
    "                    })\n",
    "\n",
    "    return pd.DataFrame(dataset)\n",
    "\n",
    "print(\"Loading datasets...\")\n",
    "train_df = load_emotion_dataset(TRAIN_DIR)\n",
    "test_df = load_emotion_dataset(TEST_DIR)\n",
    "\n",
    "print(f\"\\n=== DATASET LOADED ===\")\n",
    "print(f\"Train samples: {len(train_df)}\")\n",
    "print(f\"Test samples: {len(test_df)}\")\n",
    "print(f\"Total samples: {len(train_df) + len(test_df)}\")\n",
    "\n",
    "print(f\"\\nTrain set distribution:\")\n",
    "print(train_df['emotion'].value_counts().sort_index())\n",
    "\n",
    "train_df.head()\n"
   ],
   "id": "cb234b9286aef3b6",
   "outputs": [
    {
     "name": "stdout",
     "output_type": "stream",
     "text": [
      "Loading datasets...\n",
      "\n",
      "=== DATASET LOADED ===\n",
      "Train samples: 28709\n",
      "Test samples: 7178\n",
      "Total samples: 35887\n",
      "\n",
      "Train set distribution:\n",
      "emotion\n",
      "angry       3995\n",
      "disgust      436\n",
      "fear        4097\n",
      "happy       7215\n",
      "neutral     4965\n",
      "sad         4830\n",
      "surprise    3171\n",
      "Name: count, dtype: int64\n"
     ]
    },
    {
     "data": {
      "text/plain": [
       "                                                path emotion  emotion_id\n",
       "0  C:\\Users\\MSI GF66\\OneDrive - National Polyechn...   angry           0\n",
       "1  C:\\Users\\MSI GF66\\OneDrive - National Polyechn...   angry           0\n",
       "2  C:\\Users\\MSI GF66\\OneDrive - National Polyechn...   angry           0\n",
       "3  C:\\Users\\MSI GF66\\OneDrive - National Polyechn...   angry           0\n",
       "4  C:\\Users\\MSI GF66\\OneDrive - National Polyechn...   angry           0"
      ],
      "text/html": [
       "<div>\n",
       "<style scoped>\n",
       "    .dataframe tbody tr th:only-of-type {\n",
       "        vertical-align: middle;\n",
       "    }\n",
       "\n",
       "    .dataframe tbody tr th {\n",
       "        vertical-align: top;\n",
       "    }\n",
       "\n",
       "    .dataframe thead th {\n",
       "        text-align: right;\n",
       "    }\n",
       "</style>\n",
       "<table border=\"1\" class=\"dataframe\">\n",
       "  <thead>\n",
       "    <tr style=\"text-align: right;\">\n",
       "      <th></th>\n",
       "      <th>path</th>\n",
       "      <th>emotion</th>\n",
       "      <th>emotion_id</th>\n",
       "    </tr>\n",
       "  </thead>\n",
       "  <tbody>\n",
       "    <tr>\n",
       "      <th>0</th>\n",
       "      <td>C:\\Users\\MSI GF66\\OneDrive - National Polyechn...</td>\n",
       "      <td>angry</td>\n",
       "      <td>0</td>\n",
       "    </tr>\n",
       "    <tr>\n",
       "      <th>1</th>\n",
       "      <td>C:\\Users\\MSI GF66\\OneDrive - National Polyechn...</td>\n",
       "      <td>angry</td>\n",
       "      <td>0</td>\n",
       "    </tr>\n",
       "    <tr>\n",
       "      <th>2</th>\n",
       "      <td>C:\\Users\\MSI GF66\\OneDrive - National Polyechn...</td>\n",
       "      <td>angry</td>\n",
       "      <td>0</td>\n",
       "    </tr>\n",
       "    <tr>\n",
       "      <th>3</th>\n",
       "      <td>C:\\Users\\MSI GF66\\OneDrive - National Polyechn...</td>\n",
       "      <td>angry</td>\n",
       "      <td>0</td>\n",
       "    </tr>\n",
       "    <tr>\n",
       "      <th>4</th>\n",
       "      <td>C:\\Users\\MSI GF66\\OneDrive - National Polyechn...</td>\n",
       "      <td>angry</td>\n",
       "      <td>0</td>\n",
       "    </tr>\n",
       "  </tbody>\n",
       "</table>\n",
       "</div>"
      ]
     },
     "execution_count": 4,
     "metadata": {},
     "output_type": "execute_result"
    }
   ],
   "execution_count": 4
  },
  {
   "metadata": {},
   "cell_type": "markdown",
   "source": "## Calculate Class Weights",
   "id": "4192f8ed428479b1"
  },
  {
   "metadata": {
    "ExecuteTime": {
     "end_time": "2025-10-30T20:46:04.989892Z",
     "start_time": "2025-10-30T20:46:04.627238Z"
    }
   },
   "cell_type": "code",
   "source": [
    "class_weights = class_weight.compute_class_weight(\n",
    "    class_weight='balanced',\n",
    "    classes=np.unique(train_df['emotion_id']),\n",
    "    y=train_df['emotion_id']\n",
    ")\n",
    "\n",
    "class_weight_dict = {i: weight for i, weight in enumerate(class_weights)}\n",
    "\n",
    "print(\"=== CLASS WEIGHTS (for handling imbalance) ===\")\n",
    "for emotion_id, weight in class_weight_dict.items():\n",
    "    emotion_name = ID_TO_EMOTION[emotion_id]\n",
    "    print(f\"{emotion_name.capitalize():12s} (ID {emotion_id}): {weight:.3f}\")\n",
    "\n",
    "fig, ax = plt.subplots(figsize=(10, 6))\n",
    "emotions = [ID_TO_EMOTION[i] for i in range(len(EMOTION_LABELS))]\n",
    "weights = [class_weight_dict[i] for i in range(len(EMOTION_LABELS))]\n",
    "\n",
    "bars = ax.bar(emotions, weights, color='steelblue', alpha=0.8, edgecolor='black')\n",
    "ax.set_xlabel('Emotion')\n",
    "ax.set_ylabel('Class Weight')\n",
    "ax.set_title('Class Weights for Handling Imbalance', fontsize=14, fontweight='bold')\n",
    "ax.axhline(y=1.0, color='red', linestyle='--', linewidth=2, label='Baseline (1.0)')\n",
    "ax.legend()\n",
    "ax.grid(axis='y', alpha=0.3)\n",
    "\n",
    "for bar, weight in zip(bars, weights):\n",
    "    ax.text(bar.get_x() + bar.get_width()/2., bar.get_height(),\n",
    "            f'{weight:.2f}', ha='center', va='bottom', fontweight='bold')\n",
    "\n",
    "plt.xticks(rotation=45)\n",
    "plt.tight_layout()\n",
    "plt.savefig(RESULTS_DIR / 'class_weights.png', dpi=300, bbox_inches='tight')\n",
    "plt.show()\n",
    "\n"
   ],
   "id": "9e22971901c7605a",
   "outputs": [
    {
     "name": "stdout",
     "output_type": "stream",
     "text": [
      "=== CLASS WEIGHTS (for handling imbalance) ===\n",
      "Angry        (ID 0): 1.027\n",
      "Disgust      (ID 1): 9.407\n",
      "Fear         (ID 2): 1.001\n",
      "Happy        (ID 3): 0.568\n",
      "Sad          (ID 4): 0.849\n",
      "Surprise     (ID 5): 1.293\n",
      "Neutral      (ID 6): 0.826\n"
     ]
    },
    {
     "data": {
      "text/plain": [
       "<Figure size 1000x600 with 1 Axes>"
      ],
      "image/png": "[encoded data removed]"
     },
     "metadata": {},
     "output_type": "display_data"
    }
   ],
   "execution_count": 5
  },
  {
   "metadata": {},
   "cell_type": "markdown",
   "source": "## Image Loading and Normalization",
   "id": "e2e8bf0e8d1110e6"
  },
  {
   "metadata": {
    "ExecuteTime": {
     "end_time": "2025-10-30T20:46:10.390866Z",
     "start_time": "2025-10-30T20:46:10.381967Z"
    }
   },
   "cell_type": "code",
   "source": [
    "def load_and_normalize_image(img_path, normalize='standard'):\n",
    "    img = cv2.imread(img_path, cv2.IMREAD_GRAYSCALE)\n",
    "    if img is None:\n",
    "        return None\n",
    "\n",
    "    if img.shape != IMG_SIZE:\n",
    "        img = cv2.resize(img, IMG_SIZE, interpolation=cv2.INTER_AREA)\n",
    "\n",
    "    img = img.astype(np.float32)\n",
    "    if normalize == 'standard':\n",
    "        img = img / 255.0\n",
    "    elif normalize == 'centered':\n",
    "        img = (img - 127.5) / 127.5\n",
    "    elif normalize == 'standardize':\n",
    "        img = (img - np.mean(img)) / (np.std(img) + 1e-7)\n",
    "\n",
    "    return np.expand_dims(img, axis=-1)\n"
   ],
   "id": "f96948318ad8b233",
   "outputs": [],
   "execution_count": 6
  },
  {
   "metadata": {},
   "cell_type": "markdown",
   "source": "## Splitting",
   "id": "9649c8ccd88f41a4"
  },
  {
   "metadata": {
    "ExecuteTime": {
     "end_time": "2025-10-30T20:46:13.903984Z",
     "start_time": "2025-10-30T20:46:13.883457Z"
    }
   },
   "cell_type": "code",
   "source": [
    "train_data, val_data = train_test_split(\n",
    "    train_df,\n",
    "    test_size=VAL_SPLIT,\n",
    "    random_state=42,\n",
    "    stratify=train_df['emotion']\n",
    ")\n",
    "\n",
    "print(f\"Train set: {len(train_data)}\")\n",
    "print(f\"Validation set: {len(val_data)}\")\n",
    "print(f\"Test set: {len(test_df)}\")\n"
   ],
   "id": "ff6ea9996b114c69",
   "outputs": [
    {
     "name": "stdout",
     "output_type": "stream",
     "text": [
      "Train set: 24402\n",
      "Validation set: 4307\n",
      "Test set: 7178\n"
     ]
    }
   ],
   "execution_count": 7
  },
  {
   "metadata": {},
   "cell_type": "markdown",
   "source": "## Process and Save",
   "id": "78730d9445945679"
  },
  {
   "metadata": {
    "ExecuteTime": {
     "end_time": "2025-10-30T20:46:33.832118Z",
     "start_time": "2025-10-30T20:46:17.344738Z"
    }
   },
   "cell_type": "code",
   "source": [
    "def build_image_array(df, normalize='standard'):\n",
    "    X, y = [], []\n",
    "    for _, row in tqdm(df.iterrows(), total=len(df), desc=\"Processing images\"):\n",
    "        img = load_and_normalize_image(row['path'], normalize=normalize)\n",
    "        if img is not None:\n",
    "            X.append(img)\n",
    "            y.append(row['emotion_id'])\n",
    "\n",
    "    X = np.array(X, dtype=np.float32)\n",
    "    y = np.array(y, dtype=np.int64)\n",
    "\n",
    "    return X, y\n",
    "\n",
    "print(\"\\nLoading and normalizing training images...\")\n",
    "X_train, y_train = build_image_array(train_data, normalize='standard')\n",
    "\n",
    "print(\"\\nLoading and normalizing validation images...\")\n",
    "X_val, y_val = build_image_array(val_data, normalize='standard')\n",
    "\n",
    "print(\"\\nLoading and normalizing test images...\")\n",
    "X_test, y_test = build_image_array(test_df, normalize='standard')\n",
    "\n",
    "print(f\"\\n=== Dataset Shapes ===\")\n",
    "print(f\"X_train: {X_train.shape}, y_train: {y_train.shape}\")\n",
    "print(f\"X_val:   {X_val.shape}, y_val:   {y_val.shape}\")\n",
    "print(f\"X_test:  {X_test.shape}, y_test:  {y_test.shape}\")\n"
   ],
   "id": "e8f487458744a096",
   "outputs": [
    {
     "name": "stdout",
     "output_type": "stream",
     "text": [
      "\n",
      "Loading and normalizing training images...\n"
     ]
    },
    {
     "name": "stderr",
     "output_type": "stream",
     "text": [
      "Processing images: 100%|██████████| 24402/24402 [00:11<00:00, 2127.45it/s]\n"
     ]
    },
    {
     "name": "stdout",
     "output_type": "stream",
     "text": [
      "\n",
      "Loading and normalizing validation images...\n"
     ]
    },
    {
     "name": "stderr",
     "output_type": "stream",
     "text": [
      "Processing images: 100%|██████████| 4307/4307 [00:01<00:00, 2155.04it/s]\n"
     ]
    },
    {
     "name": "stdout",
     "output_type": "stream",
     "text": [
      "\n",
      "Loading and normalizing test images...\n"
     ]
    },
    {
     "name": "stderr",
     "output_type": "stream",
     "text": [
      "Processing images: 100%|██████████| 7178/7178 [00:02<00:00, 2501.20it/s]"
     ]
    },
    {
     "name": "stdout",
     "output_type": "stream",
     "text": [
      "\n",
      "=== Dataset Shapes ===\n",
      "X_train: (24402, 48, 48, 1), y_train: (24402,)\n",
      "X_val:   (4307, 48, 48, 1), y_val:   (4307,)\n",
      "X_test:  (7178, 48, 48, 1), y_test:  (7178,)\n"
     ]
    },
    {
     "name": "stderr",
     "output_type": "stream",
     "text": [
      "\n"
     ]
    }
   ],
   "execution_count": 8
  },
  {
   "metadata": {
    "ExecuteTime": {
     "end_time": "2025-10-30T20:46:37.415747Z",
     "start_time": "2025-10-30T20:46:37.410506Z"
    }
   },
   "cell_type": "code",
   "source": [
    "metadata = {\n",
    "    \"dataset_name\": \"FER2013\",\n",
    "    \"image_size\": IMG_SIZE,\n",
    "    \"color_mode\": \"grayscale\",\n",
    "    \"num_classes\": len(EMOTION_LABELS),\n",
    "    \"class_labels\": EMOTION_LABELS,\n",
    "    \"emotion_to_id\": EMOTION_TO_ID,\n",
    "    \"id_to_emotion\": ID_TO_EMOTION,\n",
    "    \"train_samples\": len(X_train),\n",
    "    \"val_samples\": len(X_val),\n",
    "    \"test_samples\": len(X_test),\n",
    "    \"normalization\": \"standard\",\n",
    "    \"val_split\": VAL_SPLIT,\n",
    "    \"class_weights\": class_weight_dict,\n",
    "    \"source_directories\": {\n",
    "        \"train\": str(TRAIN_DIR),\n",
    "        \"test\": str(TEST_DIR)\n",
    "    }\n",
    "}\n",
    "\n",
    "for k, v in metadata.items():\n",
    "    if isinstance(v, dict):\n",
    "        print(f\"{k:20s}: {{...}} ({len(v)} items)\")\n",
    "    else:\n",
    "        print(f\"{k:20s}: {v}\")\n"
   ],
   "id": "585130b3e15723f5",
   "outputs": [
    {
     "name": "stdout",
     "output_type": "stream",
     "text": [
      "dataset_name        : FER2013\n",
      "image_size          : (48, 48)\n",
      "color_mode          : grayscale\n",
      "num_classes         : 7\n",
      "class_labels        : ['angry', 'disgust', 'fear', 'happy', 'sad', 'surprise', 'neutral']\n",
      "emotion_to_id       : {...} (7 items)\n",
      "id_to_emotion       : {...} (7 items)\n",
      "train_samples       : 24402\n",
      "val_samples         : 4307\n",
      "test_samples        : 7178\n",
      "normalization       : standard\n",
      "val_split           : 0.15\n",
      "class_weights       : {...} (7 items)\n",
      "source_directories  : {...} (2 items)\n"
     ]
    }
   ],
   "execution_count": 9
  },
  {
   "metadata": {
    "ExecuteTime": {
     "end_time": "2025-10-30T20:46:42.129614Z",
     "start_time": "2025-10-30T20:46:41.525892Z"
    }
   },
   "cell_type": "code",
   "source": [
    "np.save(PROCESSED_DIR / 'X_train.npy', X_train)\n",
    "np.save(PROCESSED_DIR / 'y_train.npy', y_train)\n",
    "np.save(PROCESSED_DIR / 'X_val.npy', X_val)\n",
    "np.save(PROCESSED_DIR / 'y_val.npy', y_val)\n",
    "np.save(PROCESSED_DIR / 'X_test.npy', X_test)\n",
    "np.save(PROCESSED_DIR / 'y_test.npy', y_test)\n",
    "\n",
    "with open(PROCESSED_DIR / 'metadata.pkl', 'wb') as f:\n",
    "    pickle.dump(metadata, f)\n"
   ],
   "id": "9b2d86cf6939c863",
   "outputs": [],
   "execution_count": 10
  }
 ],
 "metadata": {
  "kernelspec": {
   "display_name": "Python 3",
   "language": "python",
   "name": "python3"
  },
  "language_info": {
   "codemirror_mode": {
    "name": "ipython",
    "version": 2
   },
   "file_extension": ".py",
   "mimetype": "text/x-python",
   "name": "python",
   "nbconvert_exporter": "python",
   "pygments_lexer": "ipython2",
   "version": "2.7.6"
  }
 },
 "nbformat": 4,
 "nbformat_minor": 5
}
